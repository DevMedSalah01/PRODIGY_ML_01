{
 "cells": [
  {
   "cell_type": "code",
   "execution_count": 2,
   "id": "6f4c385b",
   "metadata": {},
   "outputs": [],
   "source": [
    "import pandas as pd"
   ]
  },
  {
   "cell_type": "code",
   "execution_count": 5,
   "id": "96476e7a",
   "metadata": {},
   "outputs": [],
   "source": [
    "from sklearn.model_selection import train_test_split"
   ]
  },
  {
   "cell_type": "code",
   "execution_count": 3,
   "id": "4ca26a95",
   "metadata": {},
   "outputs": [],
   "source": [
    "from sklearn.linear_model import LinearRegression"
   ]
  },
  {
   "cell_type": "code",
   "execution_count": 6,
   "id": "3f271829",
   "metadata": {},
   "outputs": [],
   "source": [
    "from sklearn.metrics import r2_score, mean_squared_error"
   ]
  },
  {
   "cell_type": "code",
   "execution_count": 7,
   "id": "68f5781c",
   "metadata": {},
   "outputs": [],
   "source": [
    "import matplotlib.pyplot as plt"
   ]
  },
  {
   "cell_type": "code",
   "execution_count": 10,
   "id": "4159317b",
   "metadata": {},
   "outputs": [],
   "source": [
    "ds=pd.read_csv(\"C:/Users/ASUS/Documents/Prodigy_Tasks/train.csv\")"
   ]
  },
  {
   "cell_type": "code",
   "execution_count": 17,
   "id": "13e3fd55",
   "metadata": {},
   "outputs": [
    {
     "data": {
      "text/plain": [
       "Index(['Id', 'MSSubClass', 'MSZoning', 'LotFrontage', 'LotArea', 'Street',\n",
       "       'Alley', 'LotShape', 'LandContour', 'Utilities', 'LotConfig',\n",
       "       'LandSlope', 'Neighborhood', 'Condition1', 'Condition2', 'BldgType',\n",
       "       'HouseStyle', 'OverallQual', 'OverallCond', 'YearBuilt', 'YearRemodAdd',\n",
       "       'RoofStyle', 'RoofMatl', 'Exterior1st', 'Exterior2nd', 'MasVnrType',\n",
       "       'MasVnrArea', 'ExterQual', 'ExterCond', 'Foundation', 'BsmtQual',\n",
       "       'BsmtCond', 'BsmtExposure', 'BsmtFinType1', 'BsmtFinSF1',\n",
       "       'BsmtFinType2', 'BsmtFinSF2', 'BsmtUnfSF', 'TotalBsmtSF', 'Heating',\n",
       "       'HeatingQC', 'CentralAir', 'Electrical', '1stFlrSF', '2ndFlrSF',\n",
       "       'LowQualFinSF', 'GrLivArea', 'BsmtFullBath', 'BsmtHalfBath', 'FullBath',\n",
       "       'HalfBath', 'BedroomAbvGr', 'KitchenAbvGr', 'KitchenQual',\n",
       "       'TotRmsAbvGrd', 'Functional', 'Fireplaces', 'FireplaceQu', 'GarageType',\n",
       "       'GarageYrBlt', 'GarageFinish', 'GarageCars', 'GarageArea', 'GarageQual',\n",
       "       'GarageCond', 'PavedDrive', 'WoodDeckSF', 'OpenPorchSF',\n",
       "       'EnclosedPorch', '3SsnPorch', 'ScreenPorch', 'PoolArea', 'PoolQC',\n",
       "       'Fence', 'MiscFeature', 'MiscVal', 'MoSold', 'YrSold', 'SaleType',\n",
       "       'SaleCondition', 'SalePrice'],\n",
       "      dtype='object')"
      ]
     },
     "execution_count": 17,
     "metadata": {},
     "output_type": "execute_result"
    }
   ],
   "source": [
    "ds.keys()"
   ]
  },
  {
   "cell_type": "code",
   "execution_count": 31,
   "id": "0e23c1ce",
   "metadata": {},
   "outputs": [
    {
     "data": {
      "text/plain": [
       "list"
      ]
     },
     "execution_count": 31,
     "metadata": {},
     "output_type": "execute_result"
    }
   ],
   "source": [
    "features = ['GrLivArea' , 'BedroomAbvGr', 'FullBath']\n",
    "type(features)"
   ]
  },
  {
   "cell_type": "code",
   "execution_count": 52,
   "id": "91b4fa3d",
   "metadata": {},
   "outputs": [
    {
     "data": {
      "text/html": [
       "<div>\n",
       "<style scoped>\n",
       "    .dataframe tbody tr th:only-of-type {\n",
       "        vertical-align: middle;\n",
       "    }\n",
       "\n",
       "    .dataframe tbody tr th {\n",
       "        vertical-align: top;\n",
       "    }\n",
       "\n",
       "    .dataframe thead th {\n",
       "        text-align: right;\n",
       "    }\n",
       "</style>\n",
       "<table border=\"1\" class=\"dataframe\">\n",
       "  <thead>\n",
       "    <tr style=\"text-align: right;\">\n",
       "      <th></th>\n",
       "      <th>GrLivArea</th>\n",
       "      <th>BedroomAbvGr</th>\n",
       "      <th>FullBath</th>\n",
       "    </tr>\n",
       "  </thead>\n",
       "  <tbody>\n",
       "    <tr>\n",
       "      <th>0</th>\n",
       "      <td>1710</td>\n",
       "      <td>3</td>\n",
       "      <td>2</td>\n",
       "    </tr>\n",
       "    <tr>\n",
       "      <th>1</th>\n",
       "      <td>1262</td>\n",
       "      <td>3</td>\n",
       "      <td>2</td>\n",
       "    </tr>\n",
       "    <tr>\n",
       "      <th>2</th>\n",
       "      <td>1786</td>\n",
       "      <td>3</td>\n",
       "      <td>2</td>\n",
       "    </tr>\n",
       "    <tr>\n",
       "      <th>3</th>\n",
       "      <td>1717</td>\n",
       "      <td>3</td>\n",
       "      <td>1</td>\n",
       "    </tr>\n",
       "    <tr>\n",
       "      <th>4</th>\n",
       "      <td>2198</td>\n",
       "      <td>4</td>\n",
       "      <td>2</td>\n",
       "    </tr>\n",
       "  </tbody>\n",
       "</table>\n",
       "</div>"
      ],
      "text/plain": [
       "   GrLivArea  BedroomAbvGr  FullBath\n",
       "0       1710             3         2\n",
       "1       1262             3         2\n",
       "2       1786             3         2\n",
       "3       1717             3         1\n",
       "4       2198             4         2"
      ]
     },
     "execution_count": 52,
     "metadata": {},
     "output_type": "execute_result"
    }
   ],
   "source": [
    "X=ds[features]\n",
    "X.head()"
   ]
  },
  {
   "cell_type": "code",
   "execution_count": 53,
   "id": "f48ec43c",
   "metadata": {},
   "outputs": [
    {
     "data": {
      "text/plain": [
       "0    208500\n",
       "1    181500\n",
       "2    223500\n",
       "3    140000\n",
       "4    250000\n",
       "Name: SalePrice, dtype: int64"
      ]
     },
     "execution_count": 53,
     "metadata": {},
     "output_type": "execute_result"
    }
   ],
   "source": [
    "y=ds.SalePrice\n",
    "y.head()"
   ]
  },
  {
   "cell_type": "code",
   "execution_count": 55,
   "id": "572f7fe5",
   "metadata": {},
   "outputs": [
    {
     "data": {
      "text/html": [
       "<div>\n",
       "<style scoped>\n",
       "    .dataframe tbody tr th:only-of-type {\n",
       "        vertical-align: middle;\n",
       "    }\n",
       "\n",
       "    .dataframe tbody tr th {\n",
       "        vertical-align: top;\n",
       "    }\n",
       "\n",
       "    .dataframe thead th {\n",
       "        text-align: right;\n",
       "    }\n",
       "</style>\n",
       "<table border=\"1\" class=\"dataframe\">\n",
       "  <thead>\n",
       "    <tr style=\"text-align: right;\">\n",
       "      <th></th>\n",
       "      <th>GrLivArea</th>\n",
       "      <th>BedroomAbvGr</th>\n",
       "      <th>FullBath</th>\n",
       "    </tr>\n",
       "  </thead>\n",
       "  <tbody>\n",
       "    <tr>\n",
       "      <th>892</th>\n",
       "      <td>1068</td>\n",
       "      <td>3</td>\n",
       "      <td>1</td>\n",
       "    </tr>\n",
       "    <tr>\n",
       "      <th>1105</th>\n",
       "      <td>2622</td>\n",
       "      <td>3</td>\n",
       "      <td>2</td>\n",
       "    </tr>\n",
       "    <tr>\n",
       "      <th>413</th>\n",
       "      <td>1028</td>\n",
       "      <td>2</td>\n",
       "      <td>1</td>\n",
       "    </tr>\n",
       "    <tr>\n",
       "      <th>522</th>\n",
       "      <td>1664</td>\n",
       "      <td>3</td>\n",
       "      <td>2</td>\n",
       "    </tr>\n",
       "    <tr>\n",
       "      <th>1036</th>\n",
       "      <td>1620</td>\n",
       "      <td>2</td>\n",
       "      <td>2</td>\n",
       "    </tr>\n",
       "  </tbody>\n",
       "</table>\n",
       "</div>"
      ],
      "text/plain": [
       "      GrLivArea  BedroomAbvGr  FullBath\n",
       "892        1068             3         1\n",
       "1105       2622             3         2\n",
       "413        1028             2         1\n",
       "522        1664             3         2\n",
       "1036       1620             2         2"
      ]
     },
     "execution_count": 55,
     "metadata": {},
     "output_type": "execute_result"
    }
   ],
   "source": [
    "X_train, X_test, y_train, y_test = train_test_split(X, y, test_size = 0.2, random_state = 42)\n",
    "X_test.head()"
   ]
  },
  {
   "cell_type": "code",
   "execution_count": 56,
   "id": "a55c5fe6",
   "metadata": {},
   "outputs": [
    {
     "data": {
      "text/plain": [
       "892     154500\n",
       "1105    325000\n",
       "413     115000\n",
       "522     159000\n",
       "1036    315500\n",
       "Name: SalePrice, dtype: int64"
      ]
     },
     "execution_count": 56,
     "metadata": {},
     "output_type": "execute_result"
    }
   ],
   "source": [
    "y_test.head()"
   ]
  },
  {
   "cell_type": "code",
   "execution_count": 42,
   "id": "2b289145",
   "metadata": {},
   "outputs": [],
   "source": [
    "regressor = LinearRegression()"
   ]
  },
  {
   "cell_type": "code",
   "execution_count": 43,
   "id": "cfdec112",
   "metadata": {},
   "outputs": [
    {
     "data": {
      "text/html": [
       "<style>#sk-container-id-2 {color: black;}#sk-container-id-2 pre{padding: 0;}#sk-container-id-2 div.sk-toggleable {background-color: white;}#sk-container-id-2 label.sk-toggleable__label {cursor: pointer;display: block;width: 100%;margin-bottom: 0;padding: 0.3em;box-sizing: border-box;text-align: center;}#sk-container-id-2 label.sk-toggleable__label-arrow:before {content: \"▸\";float: left;margin-right: 0.25em;color: #696969;}#sk-container-id-2 label.sk-toggleable__label-arrow:hover:before {color: black;}#sk-container-id-2 div.sk-estimator:hover label.sk-toggleable__label-arrow:before {color: black;}#sk-container-id-2 div.sk-toggleable__content {max-height: 0;max-width: 0;overflow: hidden;text-align: left;background-color: #f0f8ff;}#sk-container-id-2 div.sk-toggleable__content pre {margin: 0.2em;color: black;border-radius: 0.25em;background-color: #f0f8ff;}#sk-container-id-2 input.sk-toggleable__control:checked~div.sk-toggleable__content {max-height: 200px;max-width: 100%;overflow: auto;}#sk-container-id-2 input.sk-toggleable__control:checked~label.sk-toggleable__label-arrow:before {content: \"▾\";}#sk-container-id-2 div.sk-estimator input.sk-toggleable__control:checked~label.sk-toggleable__label {background-color: #d4ebff;}#sk-container-id-2 div.sk-label input.sk-toggleable__control:checked~label.sk-toggleable__label {background-color: #d4ebff;}#sk-container-id-2 input.sk-hidden--visually {border: 0;clip: rect(1px 1px 1px 1px);clip: rect(1px, 1px, 1px, 1px);height: 1px;margin: -1px;overflow: hidden;padding: 0;position: absolute;width: 1px;}#sk-container-id-2 div.sk-estimator {font-family: monospace;background-color: #f0f8ff;border: 1px dotted black;border-radius: 0.25em;box-sizing: border-box;margin-bottom: 0.5em;}#sk-container-id-2 div.sk-estimator:hover {background-color: #d4ebff;}#sk-container-id-2 div.sk-parallel-item::after {content: \"\";width: 100%;border-bottom: 1px solid gray;flex-grow: 1;}#sk-container-id-2 div.sk-label:hover label.sk-toggleable__label {background-color: #d4ebff;}#sk-container-id-2 div.sk-serial::before {content: \"\";position: absolute;border-left: 1px solid gray;box-sizing: border-box;top: 0;bottom: 0;left: 50%;z-index: 0;}#sk-container-id-2 div.sk-serial {display: flex;flex-direction: column;align-items: center;background-color: white;padding-right: 0.2em;padding-left: 0.2em;position: relative;}#sk-container-id-2 div.sk-item {position: relative;z-index: 1;}#sk-container-id-2 div.sk-parallel {display: flex;align-items: stretch;justify-content: center;background-color: white;position: relative;}#sk-container-id-2 div.sk-item::before, #sk-container-id-2 div.sk-parallel-item::before {content: \"\";position: absolute;border-left: 1px solid gray;box-sizing: border-box;top: 0;bottom: 0;left: 50%;z-index: -1;}#sk-container-id-2 div.sk-parallel-item {display: flex;flex-direction: column;z-index: 1;position: relative;background-color: white;}#sk-container-id-2 div.sk-parallel-item:first-child::after {align-self: flex-end;width: 50%;}#sk-container-id-2 div.sk-parallel-item:last-child::after {align-self: flex-start;width: 50%;}#sk-container-id-2 div.sk-parallel-item:only-child::after {width: 0;}#sk-container-id-2 div.sk-dashed-wrapped {border: 1px dashed gray;margin: 0 0.4em 0.5em 0.4em;box-sizing: border-box;padding-bottom: 0.4em;background-color: white;}#sk-container-id-2 div.sk-label label {font-family: monospace;font-weight: bold;display: inline-block;line-height: 1.2em;}#sk-container-id-2 div.sk-label-container {text-align: center;}#sk-container-id-2 div.sk-container {/* jupyter's `normalize.less` sets `[hidden] { display: none; }` but bootstrap.min.css set `[hidden] { display: none !important; }` so we also need the `!important` here to be able to override the default hidden behavior on the sphinx rendered scikit-learn.org. See: https://github.com/scikit-learn/scikit-learn/issues/21755 */display: inline-block !important;position: relative;}#sk-container-id-2 div.sk-text-repr-fallback {display: none;}</style><div id=\"sk-container-id-2\" class=\"sk-top-container\"><div class=\"sk-text-repr-fallback\"><pre>LinearRegression()</pre><b>In a Jupyter environment, please rerun this cell to show the HTML representation or trust the notebook. <br />On GitHub, the HTML representation is unable to render, please try loading this page with nbviewer.org.</b></div><div class=\"sk-container\" hidden><div class=\"sk-item\"><div class=\"sk-estimator sk-toggleable\"><input class=\"sk-toggleable__control sk-hidden--visually\" id=\"sk-estimator-id-2\" type=\"checkbox\" checked><label for=\"sk-estimator-id-2\" class=\"sk-toggleable__label sk-toggleable__label-arrow\">LinearRegression</label><div class=\"sk-toggleable__content\"><pre>LinearRegression()</pre></div></div></div></div></div>"
      ],
      "text/plain": [
       "LinearRegression()"
      ]
     },
     "execution_count": 43,
     "metadata": {},
     "output_type": "execute_result"
    }
   ],
   "source": [
    "regressor.fit(X_train,y_train)"
   ]
  },
  {
   "cell_type": "code",
   "execution_count": 45,
   "id": "e6dc6632",
   "metadata": {},
   "outputs": [
    {
     "data": {
      "text/plain": [
       "array([113410.67255298, 305081.87775899, 135904.78562983, 205424.67564124,\n",
       "       227502.68349004, 121157.48079629, 205577.98056584, 183787.20378269,\n",
       "       121157.48079629, 147219.22233196, 185971.75622995,  93229.5689926 ,\n",
       "       121965.26049018, 192005.28203666, 208129.35962356, 133824.25948958,\n",
       "       211250.14883393, 146931.57417313, 134240.36471763, 186179.80884397,\n",
       "       219884.33231595, 197726.72892233, 185867.72992294, 126334.3653847 ,\n",
       "       181186.54610738, 183707.60823788, 171720.15216927, 118844.47127982,\n",
       "       199183.09722051, 199623.63321076, 132551.51304323, 245162.72491993,\n",
       "       383364.40832164, 127998.78629689, 202511.9390449 , 120484.46142981,\n",
       "       200376.66521523, 206232.45533514, 241160.86372906, 120716.94480604,\n",
       "       124645.5137103 , 251820.40856871, 101135.56832553, 244746.61969188,\n",
       "       105088.56799199, 208912.70855526, 123837.7340164 , 101655.69986059,\n",
       "       271169.30167299, 160846.66855057, 105088.56799199, 221989.28921839,\n",
       "       137960.88100787, 360448.30385172, 143835.21572496, 212706.5171321 ,\n",
       "       216971.5957196 , 149458.52246864, 118507.96159658, 114995.49792036,\n",
       "       109714.58702494, 131927.35520116, 262926.79265682, 215643.68449065,\n",
       "       217075.62202662, 230158.50594796, 136528.9434719 , 240977.24187723,\n",
       "       103632.19969382, 210650.42175406, 165350.11667932, 128286.43445573,\n",
       "        96662.437124  , 167167.42542293, 304898.25590717, 163263.70437405,\n",
       "       281155.82714617, 283860.51112849, 121940.82972798, 110106.26149078,\n",
       "       131639.70704232, 141002.07467343, 131743.73334934, 121133.05003408,\n",
       "       147947.40648105, 165943.95759417, 234031.91006961, 180115.96611004,\n",
       "       143835.21572496, 183787.20378269, 191142.75465334, 174192.35277536,\n",
       "       113851.20854323, 289661.55355897, 189588.24621318, 169223.52080097,\n",
       "       193357.62402782, 183371.09855464, 214811.47403455, 250443.63581535,\n",
       "       204696.49149216, 216243.41157052, 263575.3812611 , 117804.20820969,\n",
       "       177931.41366278, 156061.458428  , 109041.56765846, 240193.89294554,\n",
       "       105296.62060602, 165374.9645347 , 138841.95298837, 140512.26006559,\n",
       "       110497.93595663, 133047.21381609, 219260.17447387, 112602.89285908,\n",
       "       122693.44463927,  93021.51637857, 203527.77135282, 201783.75489581,\n",
       "       135409.08485697, 143835.21572496, 198766.99199246, 167896.0266652 ,\n",
       "       179210.04627415,  99575.17372034, 240353.08403516, 126230.33907769,\n",
       "       116635.48807036, 178769.5102839 , 196894.51846624, 269945.41675105,\n",
       "       217387.70094765, 180874.88427953,  75539.21063549, 211042.0962199 ,\n",
       "       232673.68191343,  99887.25264138, 204384.41257112, 484661.60058938,\n",
       "       296319.23720776, 125502.1549286 , 212498.46451808, 181890.29949427,\n",
       "       112162.35686883,  95934.25297492, 216292.69018811, 181082.51980037,\n",
       "       108857.94580664, 118844.47127982, 151716.78429569, 142538.03851641,\n",
       "       297310.22166029, 215570.39220404, 114346.90931609, 192084.87758147,\n",
       "       183126.84284837, 172001.91416308,  91901.65776364, 121316.67188591,\n",
       "       160693.36362597, 162113.5288319 , 203552.20211502, 134399.55580725,\n",
       "       155461.73134813, 139606.75732289, 235176.19944675, 300088.6150224 ,\n",
       "       334031.50803562, 255644.95116596, 234552.04160468, 147372.11016338,\n",
       "       163997.77468816, 194189.83448392, 304433.28915472, 170863.51095097,\n",
       "       156997.69519111, 210938.06991289, 170441.5195579 , 195958.28170313,\n",
       "       163918.17914335, 137569.20654202, 101551.67355358, 146803.11710391,\n",
       "       239233.22542023, 210209.88576381, 208025.33331655, 215019.52664857,\n",
       "       201288.05412295, 115907.30392127, 170961.65109296, 140585.96944538,\n",
       "       165032.15159326, 118611.98790359, 221493.58844553, 271224.04936242,\n",
       "       185341.71222285, 139313.22299903, 213226.64866716, 142017.90698135,\n",
       "       218452.39477998, 182746.94071257, 142121.93328836, 279258.92285775,\n",
       "       171408.07324823, 134270.68164485, 242458.04093761, 118924.06682463,\n",
       "       194887.70170578,  95102.04251882, 239000.742044  , 135984.38117464,\n",
       "       129742.8027539 , 185347.59838787, 170753.59847894, 195230.09755404,\n",
       "       144796.30034346, 121316.67188591, 142954.14374446, 186051.35177476,\n",
       "        95310.09513284, 196710.89661441, 203656.22842203, 119964.32989475,\n",
       "       184827.46685281, 128702.53968378, 146307.41633105, 106367.20060336,\n",
       "       145426.34435055, 151508.73168167, 125710.20754262, 188468.38759824,\n",
       "       118844.47127982, 130158.90798195, 231535.27870132, 147531.301253  ,\n",
       "       184643.84500099, 132575.94380543, 246827.14583212, 154996.3475025 ,\n",
       "       103864.68307005, 288804.91234067, 213746.78020222, 368696.69903291,\n",
       "       200823.0873705 , 142434.0122094 , 151172.22199843, 177257.97720312,\n",
       "       112578.46209688, 111042.4982539 , 196870.08770403, 185451.62469489,\n",
       "       158870.16871734, 100847.92016669, 122877.06649109, 170184.18832629,\n",
       "       129638.77644689, 167767.1525028 , 199079.07091349, 249739.88242847,\n",
       "       237568.80450803, 127974.35553469,  95310.09513284, 229999.31485834,\n",
       "       211874.306676  , 206752.5868702 , 198063.23860557, 143835.21572496,\n",
       "       133512.18056854, 181082.51980037, 274938.67948764, 198063.23860557,\n",
       "       237360.75189401, 117987.83006152, 186308.26591319, 106544.93629017,\n",
       "       210105.85945679, 253405.2339361 , 208851.65760763, 164383.56298899,\n",
       "       217075.62202662, 121157.48079629, 196270.36062416, 111354.57717493,\n",
       "       211042.0962199 , 187220.0719141 , 223733.3056754 , 146619.49525209,\n",
       "       191485.1505016 , 183787.20378269, 132735.13489506,  92189.30592247])"
      ]
     },
     "execution_count": 45,
     "metadata": {},
     "output_type": "execute_result"
    }
   ],
   "source": [
    "y_pred = regressor.predict(X_test)\n",
    "y_pred"
   ]
  },
  {
   "cell_type": "code",
   "execution_count": 46,
   "id": "731feadb",
   "metadata": {},
   "outputs": [
    {
     "name": "stdout",
     "output_type": "stream",
     "text": [
      "R² Score: 0.63\n",
      "MSE: 2806426667.25\n"
     ]
    }
   ],
   "source": [
    "r2 = r2_score(y_test, y_pred)\n",
    "print(f\"R² Score: {r2:.2f}\")\n",
    "\n",
    "mse = mean_squared_error(y_test, y_pred)\n",
    "print(f\"MSE: {mse:.2f}\")"
   ]
  },
  {
   "cell_type": "code",
   "execution_count": 48,
   "id": "7f2716d7",
   "metadata": {},
   "outputs": [
    {
     "data": {
      "image/png": "[encoded data removed]",
      "text/plain": [
       "<Figure size 640x480 with 1 Axes>"
      ]
     },
     "metadata": {},
     "output_type": "display_data"
    }
   ],
   "source": [
    "plt.scatter(y_test, y_pred, color='blue', edgecolor='w', alpha=0.7)\n",
    "plt.plot([y_test.min(), y_test.max()], [y_test.min(), y_test.max()], color='red', linestyle='--', linewidth=2)\n",
    "plt.xlabel('Actual prices')\n",
    "plt.ylabel('Predicted prices')\n",
    "plt.title('Actual vs Predicted values')\n",
    "plt.show()"
   ]
  },
  {
   "cell_type": "markdown",
   "id": "18fc41c9",
   "metadata": {},
   "source": [
    "### Make Predictions on New Data"
   ]
  },
  {
   "cell_type": "code",
   "execution_count": 57,
   "id": "904aade9",
   "metadata": {},
   "outputs": [
    {
     "name": "stdout",
     "output_type": "stream",
     "text": [
      "Predictions for new data: [188364.36129123 243736.67354898 295749.82705511 113410.67255298]\n"
     ]
    }
   ],
   "source": [
    "# Example new data (4 houses)\n",
    "new_data = pd.DataFrame({\n",
    "    'GrLivArea': [1500, 2000, 2500, 1068],\n",
    "    'BedroomAbvGr': [3, 4, 4,3],\n",
    "    'FullBath': [2, 3, 3, 1]\n",
    "})\n",
    "\n",
    "# Predict using the trained model\n",
    "new_predictions = model.predict(new_data)\n",
    "\n",
    "# Display the predictions\n",
    "print(\"Predictions for new data:\", new_predictions)\n"
   ]
  }
 ],
 "metadata": {
  "kernelspec": {
   "display_name": "Python 3 (ipykernel)",
   "language": "python",
   "name": "python3"
  },
  "language_info": {
   "codemirror_mode": {
    "name": "ipython",
    "version": 3
   },
   "file_extension": ".py",
   "mimetype": "text/x-python",
   "name": "python",
   "nbconvert_exporter": "python",
   "pygments_lexer": "ipython3",
   "version": "3.11.5"
  }
 },
 "nbformat": 4,
 "nbformat_minor": 5
}
